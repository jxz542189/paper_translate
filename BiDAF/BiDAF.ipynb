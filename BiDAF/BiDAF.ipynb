{
 "cells": [
  {
   "cell_type": "markdown",
   "metadata": {},
   "source": [
    "# Bi-Directional Attention Flow for Machine Comprehension\n",
    "\n",
    "#### Attention Summary\n",
    "\n",
    "这篇论文主要对 attention 机制做了改进，为此作者总结了 MC 任务上过去常用的三类 attention： \n",
    "\n",
    "+ Attention Reader.通过动态attention机制从文本中提取相关信息(context vector)，再根据该信息给出预测结果。代表论文：Bahdanau et al. 2015, Hermann et al. 2015, Chen et al. 2016, Wang & Jiang 2016 \n",
    "\n",
    "+ **Attention-Sum Reader。**只计算一次 attention weights，然后直接喂给输出层做最后的预测，也就是利用 attention 机制直接获取文本中各位置作为答案的概率，和 pointer network 类似的思想，效果很依赖对 query 的表示\n",
    "  代表论文：Kadlec et al. 2016, Cui et al. 2016\n",
    "\n",
    "+ **Multi-hop Attention**。计算多次 attention\n",
    "  代表论文：[Memory Network(Weston et al., 2015)](http://www.shuang0420.com/2017/12/04/%E8%AE%BA%E6%96%87%E7%AC%94%E8%AE%B0%20-%20Memory%20Networks/)，Sordoni et al., 2016; Dhingra et al., 2016., Shen et al. 2016.\n",
    "\n",
    "  \n",
    "\n",
    "在此基础上，作者对注意力机制做出了改进，具体BiDAF attention的特点如下：\n",
    "\n",
    "+ 并没有把context编码为固定大小的vector，而是让vector可以流动，减少早期加权和信息损失。\n",
    "+ Memory-less，在每一个时刻，仅仅对query和当前时刻的context paragraph进行计算，直接依赖上一时刻的attention，这使得后面的attention计算不会受到之前错误的attention信息影响\n",
    "+ 计算量query-to-context(Q2C)和context-to-query(C2Q)两个方向attention 信息，认为 C2Q 和 Q2C 实际上能够相互补充。实验发现模型在开发集上去掉 C2Q 与 去掉 Q2C 相比，分别下降了 12 和 10 个百分点，显然 C2Q 这个方向上的 attention 更为重要 \n",
    "\n",
    "#### Model Architecture\n",
    "\n",
    "![bidaf.png](https://github.com/jxz542189/paper_translate/raw/master/image/BiDAF1.png) \n",
    "\n",
    "论文提出的是六层结构：\n",
    "\n",
    "Character Embedding Layer -> Word Embedding Layer -> Contextual Embedding Layer ->\n",
    "\n",
    "Attention Flow Layer -> Modeling Layer -> Output Layer\n",
    "\n",
    "然而我这里还是按照五层结构来讲：\n",
    "\n",
    "![1540363638615](https://github.com/jxz542189/paper_translate/raw/master/image/BiDAF2.png)\n",
    "\n",
    "![1540363684606](https://github.com/jxz542189/paper_translate/raw/master/image/BiDAF3.png)\n",
    "\n",
    "![1540363749497](https://github.com/jxz542189/paper_translate/raw/master/image/BiDAF4.png)\n",
    "\n",
    "![1540363802854](https://github.com/jxz542189/paper_translate/raw/master/image/BiDAF5.png)\n",
    "\n",
    "![1540363832164](https://github.com/jxz542189/paper_translate/raw/master/image/BiDAF6.png)"
   ]
  },
  {
   "cell_type": "code",
   "execution_count": null,
   "metadata": {
    "collapsed": true
   },
   "outputs": [],
   "source": []
  }
 ],
 "metadata": {
  "kernelspec": {
   "display_name": "Python 3",
   "language": "python",
   "name": "python3"
  },
  "language_info": {
   "codemirror_mode": {
    "name": "ipython",
    "version": 3
   },
   "file_extension": ".py",
   "mimetype": "text/x-python",
   "name": "python",
   "nbconvert_exporter": "python",
   "pygments_lexer": "ipython3",
   "version": "3.6.2"
  },
  "toc": {
   "base_numbering": 1,
   "nav_menu": {},
   "number_sections": true,
   "sideBar": true,
   "skip_h1_title": false,
   "title_cell": "Table of Contents",
   "title_sidebar": "Contents",
   "toc_cell": false,
   "toc_position": {},
   "toc_section_display": true,
   "toc_window_display": false
  }
 },
 "nbformat": 4,
 "nbformat_minor": 2
}

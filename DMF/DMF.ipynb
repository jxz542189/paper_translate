{
 "cells": [
  {
   "cell_type": "markdown",
   "metadata": {},
   "source": [
    "### Deep Matrix Factorization Models for Recommender Systems\n",
    "\n",
    "#### 摘要\n",
    "\n",
    "推荐系统经常进行个性化推荐，使用用户和物品得分，隐式反馈，辅助信息。矩阵分解是一个基本的想法来对于一个特定用户预测一个基于所有物品的个性化排名通过用户和物品的相似度。这篇文章，我们提出一个基于深度学习架构的新颖的矩阵分解模型。首先，我们构造用户物品矩阵使用显式得分和没有偏差的隐式反馈。用这个矩阵作为输入，我们描述一个深度结构来学习一个通用低维度空间来描述用户和物品。第二，我们设计一个新的损失函数基于二进制交叉熵，我们考虑显式评分和隐式反馈来获得更好的优化。实验结果显示我们提出模型和损失函数是有效的。在几个基准数据集，我们的模型超过其他最优方法。我们也执行扩展实验来评估不同实验设置的性能。\n",
    "\n",
    "#### 介绍\n",
    "\n",
    "在这个信心爆炸的时代，信息过载是我们所遇到困境之一。推荐系统被用于处理这个问题，它能够帮助决定信息提供给特定用户，允许在线用户快速找到个性化信息来满足他们的需求。推荐系统现在普遍存在于商业平台上，例如亚马逊的书籍推荐网站。\n",
    "\n",
    "协同过滤推荐方法广泛研究在研究社区和在工业界广泛使用。基于这样简单的直觉，如果用户评分物品在过去，他们也可能评分其他相似物品在未来。\n",
    "\n",
    "这篇论文，为了使用显式得分和隐式反馈，我们推出一个新的神经矩阵分解矩阵来进行top-N推荐。我们首先构造一个用户物品矩阵使用显式得分和没有偏好隐式反馈，不同于其他的方法：要不使用显式得分要不使用隐式反馈。这个完全矩阵作为输入，一个神经网络结构提出学习一个通常潜在低维度空间来描述用户和物品。这结构受到深度结构语义模型的激励，被证明对于文本检索是有用的。此外，我们设计一个新的损失函数基于交叉熵：考虑了显示得分和隐式反馈。\n",
    "\n",
    "  总结，我们主要的贡献：\n",
    "\n",
    "1.我们提出新颖深度矩阵分解模型使用神经网络，映射用户和物品到一个共同的低维度空间使用分线性映射。我们将包含显示得分和隐式反馈的矩阵作为我们模型的输入。\n",
    "\n",
    "2.我们设计一个新的损失函数来考虑显式得分和隐式反馈，获得更好的优化。\n",
    "\n",
    "3.获得最先进的结果。\n",
    "\n",
    "#### 问题描述\n",
    "\n",
    "假定有M个用户$U=\\{u_1,...,u_M\\}$和N个物品$V=\\{v_1,...,v_N\\}$。用户物品交互矩阵$Y \\in R^{M \\in \\times N}$带有隐式反馈:\n",
    "$$\n",
    "Y_{i,j}=\\begin{equation}\n",
    "\\left\\{            \n",
    "\\begin{array}{lr}            \n",
    "0, & R_{i,j}=unk \\\\            \n",
    "1,&otherwise             \n",
    "\\end{array}\\right.\\end{equation}\n",
    "\n",
    "$$\n",
    "\n",
    "$$\n",
    "Y_{i,j}=\\begin{equation}\\left\\{            \n",
    "\\begin{array}{lr}            \n",
    "0, & if R_{i,j}=unk \\\\             \n",
    "R_{ij}, &   otherwise          \n",
    "\\end{array}\\right.\\end{equation}\n",
    "\n",
    "$$\n",
    "\n",
    "大部分已存在方法使用第一个公式来构造交互矩阵$Y$.本文使用第二个公式。\n",
    "\n",
    "用户物品得分：\n",
    "$$\n",
    "\\hat Y_{ij}=F(u_i,u_j|\\Theta)\n",
    "$$\n",
    "定义F函数：\n",
    "$$\n",
    "\\hat Y_{ij}=F_{LFM}(u_i,v_j|\\Theta)=p_i^Tq_j\n",
    "$$\n",
    "\n",
    "#### 我们提出模型\n",
    "\n",
    "https://zhuanlan.zhihu.com/p/32127194?edition=yidianzixun&utm_source=yidianzixun&yidian_docid=0I0gw5e2"
   ]
  },
  {
   "cell_type": "code",
   "execution_count": null,
   "metadata": {
    "collapsed": true
   },
   "outputs": [],
   "source": []
  }
 ],
 "metadata": {
  "kernelspec": {
   "display_name": "Python 3",
   "language": "python",
   "name": "python3"
  },
  "language_info": {
   "codemirror_mode": {
    "name": "ipython",
    "version": 3
   },
   "file_extension": ".py",
   "mimetype": "text/x-python",
   "name": "python",
   "nbconvert_exporter": "python",
   "pygments_lexer": "ipython3",
   "version": "3.6.2"
  },
  "toc": {
   "base_numbering": 1,
   "nav_menu": {},
   "number_sections": true,
   "sideBar": true,
   "skip_h1_title": false,
   "title_cell": "Table of Contents",
   "title_sidebar": "Contents",
   "toc_cell": false,
   "toc_position": {},
   "toc_section_display": true,
   "toc_window_display": false
  }
 },
 "nbformat": 4,
 "nbformat_minor": 2
}
